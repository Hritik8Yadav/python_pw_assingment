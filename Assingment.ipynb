{
 "cells": [
  {
   "cell_type": "code",
   "execution_count": 10,
   "id": "0e849466-1976-4d51-8cde-bb829a169d68",
   "metadata": {},
   "outputs": [],
   "source": [
    "#Ans 1:- Guido van Rossum"
   ]
  },
  {
   "cell_type": "code",
   "execution_count": 14,
   "id": "94bf4c7f-77f6-4b21-af85-a09f5b6b51d6",
   "metadata": {},
   "outputs": [],
   "source": [
    "#Ans 2:- python support both prcedurial as well as oops based programming"
   ]
  },
  {
   "cell_type": "code",
   "execution_count": null,
   "id": "258a5c7a-9f3f-4984-9384-46c035c3ac8d",
   "metadata": {},
   "outputs": [],
   "source": [
    "#Ans 3:- YES Python is case"
   ]
  },
  {
   "cell_type": "code",
   "execution_count": null,
   "id": "c209d543-4e00-4d8d-aaba-89e0dac9ae8e",
   "metadata": {},
   "outputs": [],
   "source": [
    "#Ans 4:- .py"
   ]
  },
  {
   "cell_type": "code",
   "execution_count": null,
   "id": "763b1b8f-539a-41bc-93e3-28b7918ba2ec",
   "metadata": {},
   "outputs": [],
   "source": [
    "#Ans 5:- Python code is interpreted"
   ]
  },
  {
   "cell_type": "code",
   "execution_count": null,
   "id": "99d2465a-018d-4ba3-a564-5dfc28219b7d",
   "metadata": {},
   "outputs": [],
   "source": [
    "#Ans 6:- Indentation"
   ]
  },
  {
   "cell_type": "code",
   "execution_count": null,
   "id": "dc1ddcb7-4f83-44ff-9660-e529c49f9c34",
   "metadata": {},
   "outputs": [],
   "source": [
    "#Ans 7:- \"#\" is used for single line comments"
   ]
  },
  {
   "cell_type": "code",
   "execution_count": 17,
   "id": "4a6d5f67-75d9-4499-961a-a6469247b317",
   "metadata": {},
   "outputs": [
    {
     "name": "stdout",
     "output_type": "stream",
     "text": [
      "3.10.8 | packaged by conda-forge | (main, Nov 22 2022, 08:26:04) [GCC 10.4.0]\n"
     ]
    }
   ],
   "source": [
    "import sys\n",
    "print(sys.version)"
   ]
  },
  {
   "cell_type": "code",
   "execution_count": null,
   "id": "8365e48f-cf50-4f50-acfa-fe11cb13faf0",
   "metadata": {},
   "outputs": [],
   "source": [
    "#Ans 9:- lambda function"
   ]
  },
  {
   "cell_type": "code",
   "execution_count": null,
   "id": "46d151fd-39b3-4d02-96dd-81debcfc267a",
   "metadata": {},
   "outputs": [],
   "source": [
    "#Ans 10:- pip means preferred installed program"
   ]
  },
  {
   "cell_type": "code",
   "execution_count": null,
   "id": "436fbb90-a502-442c-8e60-9ac0a39445ab",
   "metadata": {},
   "outputs": [],
   "source": [
    "#Ans 11:- (i) print\n",
    "#         (ii) input\n",
    "#         (iii) type\n",
    "#          (iv) range"
   ]
  },
  {
   "cell_type": "code",
   "execution_count": null,
   "id": "60ccd7db-df3b-4ea1-83e1-912772181b8a",
   "metadata": {},
   "outputs": [],
   "source": [
    "#Ans 12:- 79 characters"
   ]
  },
  {
   "cell_type": "code",
   "execution_count": null,
   "id": "8b90d03f-7efc-4071-96ac-fa846e23221c",
   "metadata": {},
   "outputs": [],
   "source": [
    "#Ans 13:- * Easy to use \n",
    "#         * less syntex\n",
    "#         * Automatic memory management"
   ]
  },
  {
   "cell_type": "code",
   "execution_count": null,
   "id": "2755f130-49b9-4990-89ab-94e3287a8f1c",
   "metadata": {},
   "outputs": [],
   "source": [
    "#Ans 14:- All the objects in python is allocated in heap and this allocation is dynamic memory allocation.\n",
    "# The python also remove those objects which are of no use this process is called Garbage Collecter."
   ]
  },
  {
   "cell_type": "code",
   "execution_count": null,
   "id": "bbbd5c6a-c2a3-4e78-a2de-72851750dd78",
   "metadata": {},
   "outputs": [],
   "source": [
    "#Ans 15:- Python can be installed by using the setup downloaded from the python.org\n",
    "# During installation process we can select to set path variables automatically."
   ]
  },
  {
   "cell_type": "code",
   "execution_count": null,
   "id": "e2c48beb-1321-4984-b167-83eb2627a12e",
   "metadata": {},
   "outputs": [],
   "source": [
    "# Ans 16:- Yes indentation is required in loops as well as conditional statement."
   ]
  }
 ],
 "metadata": {
  "kernelspec": {
   "display_name": "Python 3 (ipykernel)",
   "language": "python",
   "name": "python3"
  },
  "language_info": {
   "codemirror_mode": {
    "name": "ipython",
    "version": 3
   },
   "file_extension": ".py",
   "mimetype": "text/x-python",
   "name": "python",
   "nbconvert_exporter": "python",
   "pygments_lexer": "ipython3",
   "version": "3.10.8"
  }
 },
 "nbformat": 4,
 "nbformat_minor": 5
}
